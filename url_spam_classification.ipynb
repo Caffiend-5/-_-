{
  "cells": [
    {
      "cell_type": "code",
      "execution_count": 1,
      "metadata": {
        "id": "MHFjwGLmD9yF"
      },
      "outputs": [
        {
          "name": "stderr",
          "output_type": "stream",
          "text": [
            "2023-08-04 22:06:13.169537: I tensorflow/tsl/cuda/cudart_stub.cc:28] Could not find cuda drivers on your machine, GPU will not be used.\n",
            "2023-08-04 22:06:13.527733: I tensorflow/tsl/cuda/cudart_stub.cc:28] Could not find cuda drivers on your machine, GPU will not be used.\n",
            "2023-08-04 22:06:13.529017: I tensorflow/core/platform/cpu_feature_guard.cc:182] This TensorFlow binary is optimized to use available CPU instructions in performance-critical operations.\n",
            "To enable the following instructions: AVX2 FMA, in other operations, rebuild TensorFlow with the appropriate compiler flags.\n",
            "2023-08-04 22:06:14.879934: W tensorflow/compiler/tf2tensorrt/utils/py_utils.cc:38] TF-TRT Warning: Could not find TensorRT\n"
          ]
        }
      ],
      "source": [
        "# Importing the required libraries\n",
        "import numpy as np\n",
        "import tensorflow as tf\n",
        "import pandas as pd\n",
        "from tensorflow.keras.preprocessing.sequence import pad_sequences\n",
        "from tensorflow.keras.layers import LSTM, Embedding, Dense\n",
        "from tensorflow.keras.models import Sequential\n",
        "from sklearn.model_selection import train_test_split\n",
        "from sklearn.metrics import confusion_matrix"
      ]
    },
    {
      "cell_type": "code",
      "execution_count": 7,
      "metadata": {
        "id": "Eas-5tkzEBQg"
      },
      "outputs": [
        {
          "data": {
            "text/html": [
              "<div>\n",
              "<style scoped>\n",
              "    .dataframe tbody tr th:only-of-type {\n",
              "        vertical-align: middle;\n",
              "    }\n",
              "\n",
              "    .dataframe tbody tr th {\n",
              "        vertical-align: top;\n",
              "    }\n",
              "\n",
              "    .dataframe thead th {\n",
              "        text-align: right;\n",
              "    }\n",
              "</style>\n",
              "<table border=\"1\" class=\"dataframe\">\n",
              "  <thead>\n",
              "    <tr style=\"text-align: right;\">\n",
              "      <th></th>\n",
              "      <th>url</th>\n",
              "      <th>is_spam</th>\n",
              "    </tr>\n",
              "  </thead>\n",
              "  <tbody>\n",
              "    <tr>\n",
              "      <th>0</th>\n",
              "      <td>https://briefingday.us8.list-manage.com/unsubs...</td>\n",
              "      <td>True</td>\n",
              "    </tr>\n",
              "    <tr>\n",
              "      <th>1</th>\n",
              "      <td>https://www.hvper.com/</td>\n",
              "      <td>True</td>\n",
              "    </tr>\n",
              "    <tr>\n",
              "      <th>2</th>\n",
              "      <td>https://briefingday.com/m/v4n3i4f3</td>\n",
              "      <td>True</td>\n",
              "    </tr>\n",
              "    <tr>\n",
              "      <th>3</th>\n",
              "      <td>https://briefingday.com/n/20200618/m#commentform</td>\n",
              "      <td>False</td>\n",
              "    </tr>\n",
              "    <tr>\n",
              "      <th>4</th>\n",
              "      <td>https://briefingday.com/fan</td>\n",
              "      <td>True</td>\n",
              "    </tr>\n",
              "  </tbody>\n",
              "</table>\n",
              "</div>"
            ],
            "text/plain": [
              "                                                 url  is_spam\n",
              "0  https://briefingday.us8.list-manage.com/unsubs...     True\n",
              "1                             https://www.hvper.com/     True\n",
              "2                 https://briefingday.com/m/v4n3i4f3     True\n",
              "3   https://briefingday.com/n/20200618/m#commentform    False\n",
              "4                        https://briefingday.com/fan     True"
            ]
          },
          "execution_count": 7,
          "metadata": {},
          "output_type": "execute_result"
        }
      ],
      "source": [
        "# Loading the dataset\n",
        "df=pd.read_csv('url_spam_classification.csv',nrows=10000)\n",
        "df.head()"
      ]
    },
    {
      "cell_type": "code",
      "execution_count": null,
      "metadata": {},
      "outputs": [],
      "source": [
        "#Converting the labels into binary, True = 1, False = 0\n",
        "df['is_spam'] = df['is_spam'].replace(['True','False'],[1,0])\n",
        "urls = df['url']\n",
        "labels = df['is_spam']"
      ]
    },
    {
      "cell_type": "code",
      "execution_count": 3,
      "metadata": {
        "id": "ccX7RzXrEG5D"
      },
      "outputs": [],
      "source": [
        "# Preprocessing the data\n",
        "max_len = 100 # maximum length of a URL\n",
        "tokenizer = tf.keras.preprocessing.text.Tokenizer()\n",
        "tokenizer.fit_on_texts(urls)\n",
        "sequences = tokenizer.texts_to_sequences(urls)\n",
        "padded_sequences = pad_sequences(sequences, maxlen=max_len, padding='post')"
      ]
    },
    {
      "cell_type": "code",
      "execution_count": 4,
      "metadata": {
        "id": "cEjaXc_hEI-N"
      },
      "outputs": [],
      "source": [
        "# Splitting the data into training and testing sets\n",
        "X_train, X_test, y_train, y_test = train_test_split(padded_sequences, labels, test_size=0.2,random_state=42)"
      ]
    },
    {
      "cell_type": "code",
      "execution_count": 5,
      "metadata": {
        "id": "Gef4_DczELsb"
      },
      "outputs": [
        {
          "name": "stderr",
          "output_type": "stream",
          "text": [
            "2023-08-04 22:06:27.323339: I tensorflow/compiler/xla/stream_executor/cuda/cuda_gpu_executor.cc:982] could not open file to read NUMA node: /sys/bus/pci/devices/0000:01:00.0/numa_node\n",
            "Your kernel may have been built without NUMA support.\n",
            "2023-08-04 22:06:27.323827: W tensorflow/core/common_runtime/gpu/gpu_device.cc:1956] Cannot dlopen some GPU libraries. Please make sure the missing libraries mentioned above are installed properly if you would like to use GPU. Follow the guide at https://www.tensorflow.org/install/gpu for how to download and setup the required libraries for your platform.\n",
            "Skipping registering GPU devices...\n"
          ]
        }
      ],
      "source": [
        "# Building the model\n",
        "model = Sequential()\n",
        "model.add(Embedding(input_dim=len(tokenizer.word_index)+1, output_dim=64, input_length=max_len))\n",
        "model.add(LSTM(64, dropout=0.2, recurrent_dropout=0.2))\n",
        "model.add(Dense(1, activation='sigmoid'))\n",
        "model.compile(loss='binary_crossentropy', optimizer='adam', metrics=['accuracy'])"
      ]
    },
    {
      "cell_type": "code",
      "execution_count": 6,
      "metadata": {
        "colab": {
          "base_uri": "https://localhost:8080/"
        },
        "id": "2tfSFkdvEP8l",
        "outputId": "43e1af7e-a74d-41f3-9574-e4d902ec9e3d"
      },
      "outputs": [
        {
          "name": "stdout",
          "output_type": "stream",
          "text": [
            "Epoch 1/10\n",
            "250/250 [==============================] - 29s 106ms/step - loss: 0.6058 - accuracy: 0.7107 - val_loss: 0.6036 - val_accuracy: 0.7085\n",
            "Epoch 2/10\n",
            "250/250 [==============================] - 26s 105ms/step - loss: 0.6033 - accuracy: 0.7107 - val_loss: 0.6036 - val_accuracy: 0.7085\n",
            "Epoch 3/10\n",
            "250/250 [==============================] - 26s 105ms/step - loss: 0.6024 - accuracy: 0.7107 - val_loss: 0.6045 - val_accuracy: 0.7085\n",
            "Epoch 4/10\n",
            "250/250 [==============================] - 27s 106ms/step - loss: 0.6023 - accuracy: 0.7107 - val_loss: 0.6035 - val_accuracy: 0.7085\n",
            "Epoch 5/10\n",
            "250/250 [==============================] - 27s 106ms/step - loss: 0.6020 - accuracy: 0.7107 - val_loss: 0.6070 - val_accuracy: 0.7085\n",
            "Epoch 6/10\n",
            "250/250 [==============================] - 26s 103ms/step - loss: 0.6026 - accuracy: 0.7107 - val_loss: 0.6035 - val_accuracy: 0.7085\n",
            "Epoch 7/10\n",
            "250/250 [==============================] - 26s 103ms/step - loss: 0.6021 - accuracy: 0.7107 - val_loss: 0.6043 - val_accuracy: 0.7085\n",
            "Epoch 8/10\n",
            "250/250 [==============================] - 26s 103ms/step - loss: 0.6021 - accuracy: 0.7107 - val_loss: 0.6036 - val_accuracy: 0.7085\n",
            "Epoch 9/10\n",
            "250/250 [==============================] - 26s 103ms/step - loss: 0.6022 - accuracy: 0.7107 - val_loss: 0.6036 - val_accuracy: 0.7085\n",
            "Epoch 10/10\n",
            "250/250 [==============================] - 26s 104ms/step - loss: 0.6024 - accuracy: 0.7107 - val_loss: 0.6035 - val_accuracy: 0.7085\n"
          ]
        }
      ],
      "source": [
        "# Training the model\n",
        "# Iterating the model over the entire dataset 10 times since epochs=10\n",
        "history = model.fit(X_train, y_train, batch_size=32, epochs=10, validation_data=(X_test, y_test))"
      ]
    },
    {
      "cell_type": "code",
      "execution_count": 8,
      "metadata": {
        "colab": {
          "base_uri": "https://localhost:8080/"
        },
        "id": "OzSSsGLYESlj",
        "outputId": "616f874e-aa89-420d-e8b0-fdccd8c49319"
      },
      "outputs": [
        {
          "name": "stdout",
          "output_type": "stream",
          "text": [
            "63/63 [==============================] - 1s 20ms/step - loss: 0.6035 - accuracy: 0.7085\n",
            "Test accuracy: 0.7085000276565552\n"
          ]
        }
      ],
      "source": [
        "# Evaluating the model\n",
        "score, acc = model.evaluate(X_test, y_test, batch_size=32)\n",
        "print(\"Test accuracy:\", acc)"
      ]
    },
    {
      "cell_type": "code",
      "execution_count": 9,
      "metadata": {
        "colab": {
          "base_uri": "https://localhost:8080/",
          "height": 472
        },
        "id": "p-96sNCAEU7D",
        "outputId": "8a497c50-2153-4249-dff4-0a96cfdaf526"
      },
      "outputs": [
        {
          "data": {
            "image/png": "[encoded data removed]",
            "text/plain": [
              "<Figure size 640x480 with 1 Axes>"
            ]
          },
          "metadata": {},
          "output_type": "display_data"
        }
      ],
      "source": [
        "# Plotting the accuracy history\n",
        "import matplotlib.pyplot as plt\n",
        "\n",
        "plt.plot(history.history['accuracy'])\n",
        "plt.plot(history.history['val_accuracy'])\n",
        "plt.title('Model Accuracy')\n",
        "plt.xlabel('Epoch')\n",
        "plt.ylabel('Accuracy')\n",
        "plt.legend(['train', 'test'], loc='upper left')\n",
        "plt.show()"
      ]
    },
    {
      "cell_type": "code",
      "execution_count": 10,
      "metadata": {
        "colab": {
          "base_uri": "https://localhost:8080/"
        },
        "id": "s7zY8o7wEV3r",
        "outputId": "59e635a8-c1d1-4552-9f0c-0beeca62bb4c"
      },
      "outputs": [
        {
          "name": "stdout",
          "output_type": "stream",
          "text": [
            "63/63 [==============================] - 2s 21ms/step\n",
            "Confusion matrix:\n",
            " [[1417    0]\n",
            " [ 583    0]]\n"
          ]
        }
      ],
      "source": [
        "# Generating predictions and the confusion matrix\n",
        "y_pred = model.predict(X_test)\n",
        "y_pred_classes = np.where(y_pred > 0.5, 1, 0)\n",
        "confusion_mtx = confusion_matrix(y_test, y_pred_classes)\n",
        "print(\"Confusion matrix:\\n\", confusion_mtx)"
      ]
    }
  ],
  "metadata": {
    "colab": {
      "provenance": []
    },
    "kernelspec": {
      "display_name": "Python 3",
      "name": "python3"
    },
    "language_info": {
      "codemirror_mode": {
        "name": "ipython",
        "version": 3
      },
      "file_extension": ".py",
      "mimetype": "text/x-python",
      "name": "python",
      "nbconvert_exporter": "python",
      "pygments_lexer": "ipython3",
      "version": "3.9.12"
    }
  },
  "nbformat": 4,
  "nbformat_minor": 0
}
